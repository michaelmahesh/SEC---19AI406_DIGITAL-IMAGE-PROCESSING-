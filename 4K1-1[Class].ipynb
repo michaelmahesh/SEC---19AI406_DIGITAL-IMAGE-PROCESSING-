{
 "cells": [
  {
   "cell_type": "code",
   "execution_count": 1,
   "id": "c5ae4d65-a6d6-402c-bfe8-bb409cd22314",
   "metadata": {},
   "outputs": [],
   "source": [
    "import cv2"
   ]
  },
  {
   "cell_type": "code",
   "execution_count": null,
   "id": "125c39ca-f9db-4848-8681-623c72d20b0a",
   "metadata": {},
   "outputs": [],
   "source": []
  }
 ],
 "metadata": {
  "kernelspec": {
   "display_name": "Python 3 (ipykernel)",
   "language": "python",
   "name": "python3"
  },
  "language_info": {
   "codemirror_mode": {
    "name": "ipython",
    "version": 3
   },
   "file_extension": ".py",
   "mimetype": "text/x-python",
   "name": "python",
   "nbconvert_exporter": "python",
   "pygments_lexer": "ipython3",
   "version": "3.12.2"
  }
 },
 "nbformat": 4,
 "nbformat_minor": 5
}
